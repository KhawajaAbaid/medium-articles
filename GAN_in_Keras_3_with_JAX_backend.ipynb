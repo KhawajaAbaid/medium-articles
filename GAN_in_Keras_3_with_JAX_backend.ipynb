{
  "nbformat": 4,
  "nbformat_minor": 0,
  "metadata": {
    "colab": {
      "provenance": [],
      "collapsed_sections": [
        "TG9N6gWYQDGP",
        "yM3pJX5NiC2h"
      ],
      "gpuType": "T4",
      "authorship_tag": "ABX9TyNV/DbbQCwlFuOnuSpvS2HG",
      "include_colab_link": true
    },
    "kernelspec": {
      "name": "python3",
      "display_name": "Python 3"
    },
    "language_info": {
      "name": "python"
    },
    "accelerator": "GPU"
  },
  "cells": [
    {
      "cell_type": "markdown",
      "metadata": {
        "id": "view-in-github",
        "colab_type": "text"
      },
      "source": [
        "<a href=\"https://colab.research.google.com/github/KhawajaAbaid/medium-articles/blob/main/GAN_in_Keras_3_with_JAX_backend.ipynb\" target=\"_parent\"><img src=\"https://colab.research.google.com/assets/colab-badge.svg\" alt=\"Open In Colab\"/></a>"
      ]
    },
    {
      "cell_type": "code",
      "source": [
        "!pip install --upgrade keras"
      ],
      "metadata": {
        "id": "solPIsNy-2yA"
      },
      "execution_count": null,
      "outputs": []
    },
    {
      "cell_type": "code",
      "source": [
        "# Make sure to set the environment variable before import keras\n",
        "import os\n",
        "os.environ[\"KERAS_BACKEND\"] = \"jax\""
      ],
      "metadata": {
        "id": "_75-gs_DKHE2"
      },
      "execution_count": 2,
      "outputs": []
    },
    {
      "cell_type": "code",
      "execution_count": 3,
      "metadata": {
        "id": "IXM0o0QW-q90"
      },
      "outputs": [],
      "source": [
        "import keras\n",
        "from keras import layers, ops, random, datasets\n",
        "import jax\n",
        "import jax.numpy as jnp\n",
        "import tensorflow as tf\n",
        "import time"
      ]
    },
    {
      "cell_type": "code",
      "source": [
        "def get_generator(image_shape: tuple = (28, 28, 1),\n",
        "                    latent_dim: int = 100):\n",
        "  inputs = layers.Input(shape=(latent_dim,), name=\"generator_input\")\n",
        "  x = layers.Dense(256)(inputs)\n",
        "  x = layers.LeakyReLU(negative_slope=0.2)(x)\n",
        "  x = layers.BatchNormalization(momentum=0.5)(x)\n",
        "  x = layers.Dense(512)(x)\n",
        "  x = layers.LeakyReLU(negative_slope=0.2)(x)\n",
        "  x = layers.BatchNormalization(momentum=0.5)(x)\n",
        "  x = layers.Dense(1024)(x)\n",
        "  x = layers.LeakyReLU(negative_slope=0.2)(x)\n",
        "  x = layers.BatchNormalization(momentum=0.5)(x)\n",
        "  x = layers.Dense(ops.prod(jnp.array(image_shape)).item(), activation=\"tanh\")(x)\n",
        "  outputs = layers.Reshape(image_shape, name=\"generator_output\")(x)\n",
        "\n",
        "  return keras.Model(inputs, outputs, name=\"generator\")\n"
      ],
      "metadata": {
        "id": "-VfDrbi1CvfX"
      },
      "execution_count": 4,
      "outputs": []
    },
    {
      "cell_type": "code",
      "source": [
        "def get_discriminator(image_shape: tuple = (28, 28, 1)):\n",
        "  inputs = layers.Input(shape=image_shape, name=\"discriminator_input\")\n",
        "  x = layers.Flatten()(inputs)\n",
        "  x = layers.Dense(512)(x)\n",
        "  x = layers.LeakyReLU(negative_slope=0.2)(x)\n",
        "  x = layers.Dense(256)(x)\n",
        "  x = layers.LeakyReLU(negative_slope=0.2)(x)\n",
        "  x = layers.Dense(128)(x)\n",
        "  x = layers.LeakyReLU(negative_slope=0.2)(x)\n",
        "  outputs = layers.Dense(1, activation=\"sigmoid\",\n",
        "                         name=\"discriminator_output\")(x)\n",
        "\n",
        "  return keras.Model(inputs, outputs, name=\"discriminator\")\n"
      ],
      "metadata": {
        "id": "X69BeG_eFkbU"
      },
      "execution_count": 5,
      "outputs": []
    },
    {
      "cell_type": "markdown",
      "source": [
        "## Print model summaries"
      ],
      "metadata": {
        "id": "MFhvwKARs3ou"
      }
    },
    {
      "cell_type": "code",
      "source": [
        "get_generator().summary()"
      ],
      "metadata": {
        "id": "3m5-8qF-svUP"
      },
      "execution_count": null,
      "outputs": []
    },
    {
      "cell_type": "code",
      "source": [
        "get_discriminator().summary()"
      ],
      "metadata": {
        "id": "4iwAKUGLs6WZ"
      },
      "execution_count": null,
      "outputs": []
    },
    {
      "cell_type": "markdown",
      "source": [
        "# Writing a training loop from scratch"
      ],
      "metadata": {
        "id": "yjk3UpLuJufr"
      }
    },
    {
      "cell_type": "code",
      "source": [
        "generator = get_generator()\n",
        "discriminator = get_discriminator()\n",
        "\n",
        "loss_fn = keras.losses.BinaryCrossentropy()\n",
        "\n",
        "generator_optimizer = keras.optimizers.Adam(learning_rate=0.0002,\n",
        "                                            beta_1=0.5)\n",
        "discriminator_optimizer = keras.optimizers.Adam(learning_rate=0.0002,\n",
        "                                            beta_1=0.5)\n"
      ],
      "metadata": {
        "id": "bjHU7qiGJwe3"
      },
      "execution_count": 8,
      "outputs": []
    },
    {
      "cell_type": "code",
      "source": [
        "# Make sure to build optimizer variables\n",
        "generator_optimizer.build(generator.trainable_variables)\n",
        "discriminator_optimizer.build(discriminator.trainable_variables)"
      ],
      "metadata": {
        "id": "nE5e8CZmNzF3"
      },
      "execution_count": 9,
      "outputs": []
    },
    {
      "cell_type": "code",
      "source": [
        "# Get the initial state\n",
        "generator_state = (generator.trainable_variables,\n",
        "                   generator.non_trainable_variables,\n",
        "                   generator_optimizer.variables)\n",
        "\n",
        "discriminator_state = (discriminator.trainable_variables,\n",
        "                       discriminator.non_trainable_variables,\n",
        "                       discriminator_optimizer.variables)\n"
      ],
      "metadata": {
        "id": "t93jnZ7vODF6"
      },
      "execution_count": 10,
      "outputs": []
    },
    {
      "cell_type": "markdown",
      "source": [
        "# Download and prepare dataset"
      ],
      "metadata": {
        "id": "TG9N6gWYQDGP"
      }
    },
    {
      "cell_type": "code",
      "source": [
        "BATCH_SIZE = 256"
      ],
      "metadata": {
        "id": "_gN6rIkiqJno"
      },
      "execution_count": 11,
      "outputs": []
    },
    {
      "cell_type": "code",
      "source": [
        "(mnist_training_data, _), (_, _) = datasets.mnist.load_data()"
      ],
      "metadata": {
        "colab": {
          "base_uri": "https://localhost:8080/"
        },
        "id": "RBZen2XmQIiS",
        "outputId": "496f06ba-086a-43ea-cac4-4bf53d4b09fd"
      },
      "execution_count": 12,
      "outputs": [
        {
          "output_type": "stream",
          "name": "stdout",
          "text": [
            "Downloading data from https://storage.googleapis.com/tensorflow/tf-keras-datasets/mnist.npz\n",
            "\u001b[1m11490434/11490434\u001b[0m \u001b[32m━━━━━━━━━━━━━━━━━━━━\u001b[0m\u001b[37m\u001b[0m \u001b[1m0s\u001b[0m 0us/step\n"
          ]
        }
      ]
    },
    {
      "cell_type": "code",
      "source": [
        "# scale the data to [-1, 1] range\n",
        "# Since the original values are in range [0, 255],\n",
        "# so to scale the values to [-1, 1]\n",
        "# we first subtract 255/2=127.5 and then divide by it as well\n",
        "mnist_training_data = (mnist_training_data - 127.5) / 127.5\n",
        "\n",
        "NUM_SAMPLES = len(mnist_training_data)\n",
        "\n",
        "# convert it into a tensorflow dataset\n",
        "mnist_dataset = tf.data.Dataset.from_tensor_slices(mnist_training_data).batch(BATCH_SIZE).shuffle(NUM_SAMPLES)"
      ],
      "metadata": {
        "id": "WFSG3caRQXu_"
      },
      "execution_count": 13,
      "outputs": []
    },
    {
      "cell_type": "markdown",
      "source": [
        "# Setting up training functions"
      ],
      "metadata": {
        "id": "yM3pJX5NiC2h"
      }
    },
    {
      "cell_type": "markdown",
      "source": [
        "## Generator's"
      ],
      "metadata": {
        "id": "kYMZL0FMiHiY"
      }
    },
    {
      "cell_type": "code",
      "source": [
        "def generator_compute_loss_and_updates(generator_trainable_variables,\n",
        "                                       generator_non_trainable_variables,\n",
        "                                       discriminator_trainable_variables,\n",
        "                                       discriminator_non_trainable_variables,\n",
        "                                       noise\n",
        "                                       ):\n",
        "  fake_images, generator_non_trainable_variables = generator.stateless_call(\n",
        "                                          generator_trainable_variables,\n",
        "                                          generator_non_trainable_variables,\n",
        "                                          noise,\n",
        "                                          training=True)\n",
        "  y_pred, discriminator_non_trainable_variables = discriminator.stateless_call(\n",
        "                                          discriminator_trainable_variables,\n",
        "                                          discriminator_non_trainable_variables,\n",
        "                                          fake_images,\n",
        "                                          training=False)\n",
        "  generator_loss = loss_fn(y_true=ops.ones(ops.shape(y_pred)),\n",
        "                           y_pred=y_pred)\n",
        "  return generator_loss, generator_non_trainable_variables\n",
        "\n",
        "\n",
        "generator_grad_fn = jax.value_and_grad(generator_compute_loss_and_updates,\n",
        "                                       has_aux=True)\n",
        "\n",
        "\n",
        "@jax.jit\n",
        "def generator_train_step(generator_state: tuple,\n",
        "                         discriminator_state: tuple,\n",
        "                         noise):\n",
        "  (\n",
        "      generator_trainable_variables,\n",
        "      generator_non_trainable_variables,\n",
        "      generator_optimizer_variables\n",
        "  ) = generator_state\n",
        "\n",
        "  (\n",
        "      discriminator_trainable_variables,\n",
        "      discriminator_non_trainable_variables,\n",
        "      _\n",
        "  ) = discriminator_state\n",
        "\n",
        "  (loss, generator_non_trainable_variables), grads = generator_grad_fn(\n",
        "                                  generator_trainable_variables,\n",
        "                                  generator_non_trainable_variables,\n",
        "                                  discriminator_trainable_variables,\n",
        "                                  discriminator_non_trainable_variables,\n",
        "                                  noise)\n",
        "  # Optimize\n",
        "  (\n",
        "      generator_trainable_variables,\n",
        "      generator_optimizer_variables\n",
        "  ) = generator_optimizer.stateless_apply(generator_optimizer_variables,\n",
        "                                          grads,\n",
        "                                          generator_trainable_variables)\n",
        "\n",
        "  # Since generator_train_step function does not modify the discriminator state\n",
        "  # and only updates the generator state so we return the updated state\n",
        "  generator_state = (generator_trainable_variables,\n",
        "                     generator_non_trainable_variables,\n",
        "                     generator_optimizer_variables)\n",
        "  return loss, generator_state\n"
      ],
      "metadata": {
        "id": "HN8n5-ojONic"
      },
      "execution_count": 14,
      "outputs": []
    },
    {
      "cell_type": "markdown",
      "source": [
        "## Discriminator's"
      ],
      "metadata": {
        "id": "RO4TYoQjiKL8"
      }
    },
    {
      "cell_type": "code",
      "source": [
        "def discriminator_compute_loss_and_updates(discriminator_trainable_variables,\n",
        "                                          discriminator_non_trainable_variables,\n",
        "                                          generator_trainable_variables,\n",
        "                                          generator_non_trainable_variables,\n",
        "                                          real_images,\n",
        "                                          noise,\n",
        "                                          ):\n",
        "  # ----------------------\n",
        "  # TRAIN ON FAKE IMAGES\n",
        "  # ----------------------\n",
        "  fake_images, _ = generator.stateless_call(\n",
        "                                          generator_trainable_variables,\n",
        "                                          generator_non_trainable_variables,\n",
        "                                          noise,\n",
        "                                          training=False)\n",
        "  y_pred_fake, discriminator_non_trainable_variables = discriminator.stateless_call(\n",
        "                                          discriminator_trainable_variables,\n",
        "                                          discriminator_non_trainable_variables,\n",
        "                                          fake_images,\n",
        "                                          training=True)\n",
        "  discriminator_loss_fake = loss_fn(y_true=ops.zeros(ops.shape(y_pred_fake)),\n",
        "                                    y_pred=y_pred_fake)\n",
        "\n",
        "  # ----------------------\n",
        "  # TRAIN ON REAL IMAGES\n",
        "  # ----------------------\n",
        "  y_pred_real, discriminator_non_trainable_variables = discriminator.stateless_call(\n",
        "                                          discriminator_trainable_variables,\n",
        "                                          discriminator_non_trainable_variables,\n",
        "                                          real_images,\n",
        "                                          training=True)\n",
        "  discriminator_loss_real = loss_fn(y_true=ops.ones(ops.shape(y_pred_real)),\n",
        "                                    y_pred=y_pred_real)\n",
        "\n",
        "  discriminator_loss = discriminator_loss_fake + discriminator_loss_real\n",
        "\n",
        "  return discriminator_loss, discriminator_non_trainable_variables\n",
        "\n",
        "\n",
        "discriminator_grad_fn = jax.value_and_grad(\n",
        "                                      discriminator_compute_loss_and_updates,\n",
        "                                      has_aux=True)\n",
        "\n",
        "@jax.jit\n",
        "def discriminator_train_step(discriminator_state: tuple,\n",
        "                             generator_state: tuple,\n",
        "                             real_images,\n",
        "                             noise):\n",
        "\n",
        "  (\n",
        "      discriminator_trainable_variables,\n",
        "      discriminator_non_trainable_variables,\n",
        "      discriminator_optimizer_variables\n",
        "      ) = discriminator_state\n",
        "\n",
        "  (\n",
        "      generator_trainable_variables,\n",
        "      generator_non_trainable_variables,\n",
        "      _\n",
        "      ) = generator_state\n",
        "\n",
        "  (loss, discriminator_non_trainable_variables), grads = discriminator_grad_fn(\n",
        "                                  discriminator_trainable_variables,\n",
        "                                  discriminator_non_trainable_variables,\n",
        "                                  generator_trainable_variables,\n",
        "                                  generator_non_trainable_variables,\n",
        "                                  real_images,\n",
        "                                  noise\n",
        "                                  )\n",
        "  # Optimize\n",
        "  (\n",
        "      discriminator_trainable_variables,\n",
        "      discriminator_optimizer_variables\n",
        "      ) = discriminator_optimizer.stateless_apply(\n",
        "                                            discriminator_optimizer_variables,\n",
        "                                            grads,\n",
        "                                            discriminator_trainable_variables)\n",
        "\n",
        "  # Since discriminator_train_step function does not modify the\n",
        "  # generator state rather only updates the discriminator state so\n",
        "  # we return the updated discriminator state\n",
        "  discriminator_state = (discriminator_trainable_variables,\n",
        "                         discriminator_non_trainable_variables,\n",
        "                         discriminator_optimizer_variables)\n",
        "  return loss, discriminator_state\n"
      ],
      "metadata": {
        "id": "t7WHZfK7XluL"
      },
      "execution_count": 15,
      "outputs": []
    },
    {
      "cell_type": "markdown",
      "source": [
        "# Setting up training loop"
      ],
      "metadata": {
        "id": "lwzEdOLAhaUr"
      }
    },
    {
      "cell_type": "code",
      "source": [
        "NUM_EPOCHS = 100\n",
        "LATENT_DIM = 100\n",
        "temp = NUM_SAMPLES // BATCH_SIZE\n",
        "TOTAL_BATCHES = (temp + 0) if NUM_SAMPLES % BATCH_SIZE == 0 else (temp + 1)"
      ],
      "metadata": {
        "id": "7LnAS-nrqZfS"
      },
      "execution_count": 16,
      "outputs": []
    },
    {
      "cell_type": "code",
      "source": [
        "for epoch in range(NUM_EPOCHS):\n",
        "  epoch_start_time = time.time()\n",
        "  for batch_num, real_images in enumerate(mnist_dataset):\n",
        "    # convert tf tensors to numpy before passing to model\n",
        "    real_images = real_images.numpy()\n",
        "    noise = random.normal((BATCH_SIZE, LATENT_DIM))\n",
        "    discriminator_loss, discriminator_state = discriminator_train_step(\n",
        "                                                        discriminator_state,\n",
        "                                                        generator_state,\n",
        "                                                        real_images,\n",
        "                                                        noise)\n",
        "    noise = random.normal((BATCH_SIZE, LATENT_DIM))\n",
        "    generator_loss, generator_state = generator_train_step(\n",
        "                                                        generator_state,\n",
        "                                                        discriminator_state,\n",
        "                                                        noise)\n",
        "    # Divide discriminator loss by 2 to get the average loss since we sum up\n",
        "    # the discrimintor loss of real and fake samples\n",
        "    epoch_elapsed_time = int(time.time() - epoch_start_time)\n",
        "    print(f\"\\rEpoch {epoch+1}/{NUM_EPOCHS}:  \"\\\n",
        "          f\"Elapsed time: {epoch_elapsed_time}s  \"\\\n",
        "          f\"Batch {batch_num+1}/{TOTAL_BATCHES}:  \"\\\n",
        "          f\"generator_loss: {generator_loss:<6.6f} \"\\\n",
        "          f\"discriminator_loss: {discriminator_loss/2:<6.6f}\", end=\"\")\n",
        "  print()\n"
      ],
      "metadata": {
        "id": "MOFUtVRVOLVo"
      },
      "execution_count": null,
      "outputs": []
    },
    {
      "cell_type": "markdown",
      "source": [
        "# Generate new images and plot them to see if the hardowrk borne any fruit"
      ],
      "metadata": {
        "id": "aeNj9lO_rQVo"
      }
    },
    {
      "cell_type": "code",
      "source": [
        "import matplotlib.pyplot as plt\n",
        "\n",
        "\n",
        "def generate_and_save_images(generator, generator_state, test_input):\n",
        "  # Notice `training` is set to False.\n",
        "  # This is so all layers run in inference mode (batchnorm).\n",
        "  trainable_vars, non_trainable_vars, _ = generator_state\n",
        "  predictions, _ = generator.stateless_call(trainable_vars,\n",
        "                                          non_trainable_vars,\n",
        "                                          test_input, training=False)\n",
        "\n",
        "  fig = plt.figure(figsize=(4, 4))\n",
        "\n",
        "  for i in range(predictions.shape[0]):\n",
        "      plt.subplot(4, 4, i+1)\n",
        "      plt.imshow(predictions[i, :, :, 0] * 127.5 + 127.5, cmap='gray')\n",
        "      plt.axis('off')\n",
        "\n",
        "  plt.savefig('test.png'.format(epoch))\n",
        "  plt.show()"
      ],
      "metadata": {
        "id": "fjv6GLDzseRb"
      },
      "execution_count": 18,
      "outputs": []
    },
    {
      "cell_type": "code",
      "source": [
        "noise = random.normal((16, 100))\n",
        "generate_and_save_images(generator, generator_state, noise)"
      ],
      "metadata": {
        "colab": {
          "base_uri": "https://localhost:8080/",
          "height": 345
        },
        "id": "TGotssQItIuh",
        "outputId": "d34c57aa-f92b-4a6a-bfae-909bef579302"
      },
      "execution_count": 19,
      "outputs": [
        {
          "output_type": "display_data",
          "data": {
            "text/plain": [
              "<Figure size 400x400 with 16 Axes>"
            ],
            "image/png": "[encoded data removed]"
          },
          "metadata": {}
        }
      ]
    },
    {
      "cell_type": "markdown",
      "source": [
        "Would you look at that! Take that Yann, we got our own MNIST dataset now! :p"
      ],
      "metadata": {
        "id": "i3-2_cgsm-Xi"
      }
    },
    {
      "cell_type": "markdown",
      "source": [
        "# Thank you!\n",
        "Thanks for reading my article and following my code. If you found it helpful, please consider giving a star to my repo and liking my medium artcile!\n",
        "\n",
        "Have a wonderful day! Happy building!"
      ],
      "metadata": {
        "id": "5VugAMKSsRAO"
      }
    }
  ]
}