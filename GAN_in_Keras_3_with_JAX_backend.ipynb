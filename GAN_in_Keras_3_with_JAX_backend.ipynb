{
  "nbformat": 4,
  "nbformat_minor": 0,
  "metadata": {
    "colab": {
      "provenance": [],
      "collapsed_sections": [
        "TG9N6gWYQDGP"
      ],
      "gpuType": "T4",
      "authorship_tag": "ABX9TyM/ayuvSfPUlhgNrJI+cOhr",
      "include_colab_link": true
    },
    "kernelspec": {
      "name": "python3",
      "display_name": "Python 3"
    },
    "language_info": {
      "name": "python"
    },
    "accelerator": "GPU"
  },
  "cells": [
    {
      "cell_type": "markdown",
      "metadata": {
        "id": "view-in-github",
        "colab_type": "text"
      },
      "source": [
        "<a href=\"https://colab.research.google.com/github/KhawajaAbaid/medium-articles/blob/main/GAN_in_Keras_3_with_JAX_backend.ipynb\" target=\"_parent\"><img src=\"https://colab.research.google.com/assets/colab-badge.svg\" alt=\"Open In Colab\"/></a>"
      ]
    },
    {
      "cell_type": "code",
      "source": [
        "# Make sure we're using Keras 3\n",
        "!pip install --upgrade keras"
      ],
      "metadata": {
        "id": "solPIsNy-2yA"
      },
      "execution_count": null,
      "outputs": []
    },
    {
      "cell_type": "code",
      "source": [
        "# Make sure to set the environment variable before import keras\n",
        "import os\n",
        "os.environ[\"KERAS_BACKEND\"] = \"jax\""
      ],
      "metadata": {
        "id": "_75-gs_DKHE2"
      },
      "execution_count": null,
      "outputs": []
    },
    {
      "cell_type": "code",
      "execution_count": null,
      "metadata": {
        "id": "IXM0o0QW-q90"
      },
      "outputs": [],
      "source": [
        "import keras\n",
        "from keras import layers, ops, random, datasets\n",
        "import jax\n",
        "import jax.numpy as jnp\n",
        "import tensorflow as tf\n",
        "import time"
      ]
    },
    {
      "cell_type": "markdown",
      "source": [
        "# Download and prepare dataset"
      ],
      "metadata": {
        "id": "TG9N6gWYQDGP"
      }
    },
    {
      "cell_type": "code",
      "source": [
        "BATCH_SIZE = 256"
      ],
      "metadata": {
        "id": "_gN6rIkiqJno"
      },
      "execution_count": null,
      "outputs": []
    },
    {
      "cell_type": "code",
      "source": [
        "(mnist_training_data, _), (_, _) = datasets.mnist.load_data()"
      ],
      "metadata": {
        "id": "RBZen2XmQIiS"
      },
      "execution_count": null,
      "outputs": []
    },
    {
      "cell_type": "code",
      "source": [
        "# scale the data to [-1, 1] range\n",
        "# Since the original values are in range [0, 255],\n",
        "# so to scale the values to [-1, 1]\n",
        "# we first subtract 255/2=127.5 and then divide by it as well\n",
        "mnist_training_data = (mnist_training_data - 127.5) / 127.5\n",
        "\n",
        "NUM_SAMPLES = len(mnist_training_data)\n",
        "\n",
        "# convert it into a tensorflow dataset\n",
        "mnist_dataset = tf.data.Dataset.from_tensor_slices(mnist_training_data).batch(BATCH_SIZE).shuffle(NUM_SAMPLES)"
      ],
      "metadata": {
        "id": "WFSG3caRQXu_"
      },
      "execution_count": null,
      "outputs": []
    },
    {
      "cell_type": "markdown",
      "source": [
        "# Define and instantiate models"
      ],
      "metadata": {
        "id": "P4QiP7qYucJt"
      }
    },
    {
      "cell_type": "code",
      "source": [
        "def get_generator(image_shape: tuple = (28, 28, 1),\n",
        "                    latent_dim: int = 100):\n",
        "  inputs = layers.Input(shape=(latent_dim,), name=\"generator_input\")\n",
        "  x = layers.Dense(256)(inputs)\n",
        "  x = layers.LeakyReLU(negative_slope=0.2)(x)\n",
        "  x = layers.BatchNormalization(momentum=0.5)(x)\n",
        "  x = layers.Dense(512)(x)\n",
        "  x = layers.LeakyReLU(negative_slope=0.2)(x)\n",
        "  x = layers.BatchNormalization(momentum=0.5)(x)\n",
        "  x = layers.Dense(1024)(x)\n",
        "  x = layers.LeakyReLU(negative_slope=0.2)(x)\n",
        "  x = layers.BatchNormalization(momentum=0.5)(x)\n",
        "  x = layers.Dense(ops.prod(jnp.array(image_shape)).item(), activation=\"tanh\")(x)\n",
        "  outputs = layers.Reshape(image_shape, name=\"generator_output\")(x)\n",
        "\n",
        "  return keras.Model(inputs, outputs, name=\"generator\")\n"
      ],
      "metadata": {
        "id": "-VfDrbi1CvfX"
      },
      "execution_count": null,
      "outputs": []
    },
    {
      "cell_type": "code",
      "source": [
        "def get_discriminator(image_shape: tuple = (28, 28, 1)):\n",
        "  inputs = layers.Input(shape=image_shape, name=\"discriminator_input\")\n",
        "  x = layers.Flatten()(inputs)\n",
        "  x = layers.Dense(512)(x)\n",
        "  x = layers.LeakyReLU(negative_slope=0.2)(x)\n",
        "  x = layers.Dense(256)(x)\n",
        "  x = layers.LeakyReLU(negative_slope=0.2)(x)\n",
        "  x = layers.Dense(128)(x)\n",
        "  x = layers.LeakyReLU(negative_slope=0.2)(x)\n",
        "  outputs = layers.Dense(1, activation=\"sigmoid\",\n",
        "                         name=\"discriminator_output\")(x)\n",
        "\n",
        "  return keras.Model(inputs, outputs, name=\"discriminator\")\n"
      ],
      "metadata": {
        "id": "2VNUOvnL9RTx"
      },
      "execution_count": null,
      "outputs": []
    },
    {
      "cell_type": "code",
      "source": [
        "generator = get_generator()\n",
        "discriminator = get_discriminator()"
      ],
      "metadata": {
        "id": "a3kItjMa9SSV"
      },
      "execution_count": null,
      "outputs": []
    },
    {
      "cell_type": "markdown",
      "source": [
        "## Print model summaries\n",
        "Great way to analyzing\n",
        "- how layers transform input shapes\n",
        "- and how much parameters each layer user"
      ],
      "metadata": {
        "id": "MFhvwKARs3ou"
      }
    },
    {
      "cell_type": "code",
      "source": [
        "get_generator().summary()"
      ],
      "metadata": {
        "colab": {
          "base_uri": "https://localhost:8080/",
          "height": 561
        },
        "id": "3m5-8qF-svUP",
        "outputId": "833d9e96-1c79-4814-ceca-bb2e16e6d415"
      },
      "execution_count": null,
      "outputs": [
        {
          "output_type": "display_data",
          "data": {
            "text/plain": [
              "\u001b[1mModel: \"generator\"\u001b[0m\n"
            ],
            "text/html": [
              "<pre style=\"white-space:pre;overflow-x:auto;line-height:normal;font-family:Menlo,'DejaVu Sans Mono',consolas,'Courier New',monospace\"><span style=\"font-weight: bold\">Model: \"generator\"</span>\n",
              "</pre>\n"
            ]
          },
          "metadata": {}
        },
        {
          "output_type": "display_data",
          "data": {
            "text/plain": [
              "┏━━━━━━━━━━━━━━━━━━━━━━━━━━━━━━━━━━━━┳━━━━━━━━━━━━━━━━━━━━━━━━━━━━━━━┳━━━━━━━━━━━━━┓\n",
              "┃\u001b[1m \u001b[0m\u001b[1mLayer (type)                      \u001b[0m\u001b[1m \u001b[0m┃\u001b[1m \u001b[0m\u001b[1mOutput Shape                 \u001b[0m\u001b[1m \u001b[0m┃\u001b[1m \u001b[0m\u001b[1m    Param #\u001b[0m\u001b[1m \u001b[0m┃\n",
              "┡━━━━━━━━━━━━━━━━━━━━━━━━━━━━━━━━━━━━╇━━━━━━━━━━━━━━━━━━━━━━━━━━━━━━━╇━━━━━━━━━━━━━┩\n",
              "│ generator_input (\u001b[38;5;33mInputLayer\u001b[0m)       │ (\u001b[38;5;45mNone\u001b[0m, \u001b[38;5;34m100\u001b[0m)                   │           \u001b[38;5;34m0\u001b[0m │\n",
              "├────────────────────────────────────┼───────────────────────────────┼─────────────┤\n",
              "│ dense_7 (\u001b[38;5;33mDense\u001b[0m)                    │ (\u001b[38;5;45mNone\u001b[0m, \u001b[38;5;34m256\u001b[0m)                   │      \u001b[38;5;34m25,856\u001b[0m │\n",
              "├────────────────────────────────────┼───────────────────────────────┼─────────────┤\n",
              "│ leaky_re_lu_6 (\u001b[38;5;33mLeakyReLU\u001b[0m)          │ (\u001b[38;5;45mNone\u001b[0m, \u001b[38;5;34m256\u001b[0m)                   │           \u001b[38;5;34m0\u001b[0m │\n",
              "├────────────────────────────────────┼───────────────────────────────┼─────────────┤\n",
              "│ batch_normalization_3              │ (\u001b[38;5;45mNone\u001b[0m, \u001b[38;5;34m256\u001b[0m)                   │       \u001b[38;5;34m1,024\u001b[0m │\n",
              "│ (\u001b[38;5;33mBatchNormalization\u001b[0m)               │                               │             │\n",
              "├────────────────────────────────────┼───────────────────────────────┼─────────────┤\n",
              "│ dense_8 (\u001b[38;5;33mDense\u001b[0m)                    │ (\u001b[38;5;45mNone\u001b[0m, \u001b[38;5;34m512\u001b[0m)                   │     \u001b[38;5;34m131,584\u001b[0m │\n",
              "├────────────────────────────────────┼───────────────────────────────┼─────────────┤\n",
              "│ leaky_re_lu_7 (\u001b[38;5;33mLeakyReLU\u001b[0m)          │ (\u001b[38;5;45mNone\u001b[0m, \u001b[38;5;34m512\u001b[0m)                   │           \u001b[38;5;34m0\u001b[0m │\n",
              "├────────────────────────────────────┼───────────────────────────────┼─────────────┤\n",
              "│ batch_normalization_4              │ (\u001b[38;5;45mNone\u001b[0m, \u001b[38;5;34m512\u001b[0m)                   │       \u001b[38;5;34m2,048\u001b[0m │\n",
              "│ (\u001b[38;5;33mBatchNormalization\u001b[0m)               │                               │             │\n",
              "├────────────────────────────────────┼───────────────────────────────┼─────────────┤\n",
              "│ dense_9 (\u001b[38;5;33mDense\u001b[0m)                    │ (\u001b[38;5;45mNone\u001b[0m, \u001b[38;5;34m1024\u001b[0m)                  │     \u001b[38;5;34m525,312\u001b[0m │\n",
              "├────────────────────────────────────┼───────────────────────────────┼─────────────┤\n",
              "│ leaky_re_lu_8 (\u001b[38;5;33mLeakyReLU\u001b[0m)          │ (\u001b[38;5;45mNone\u001b[0m, \u001b[38;5;34m1024\u001b[0m)                  │           \u001b[38;5;34m0\u001b[0m │\n",
              "├────────────────────────────────────┼───────────────────────────────┼─────────────┤\n",
              "│ batch_normalization_5              │ (\u001b[38;5;45mNone\u001b[0m, \u001b[38;5;34m1024\u001b[0m)                  │       \u001b[38;5;34m4,096\u001b[0m │\n",
              "│ (\u001b[38;5;33mBatchNormalization\u001b[0m)               │                               │             │\n",
              "├────────────────────────────────────┼───────────────────────────────┼─────────────┤\n",
              "│ dense_10 (\u001b[38;5;33mDense\u001b[0m)                   │ (\u001b[38;5;45mNone\u001b[0m, \u001b[38;5;34m784\u001b[0m)                   │     \u001b[38;5;34m803,600\u001b[0m │\n",
              "├────────────────────────────────────┼───────────────────────────────┼─────────────┤\n",
              "│ generator_output (\u001b[38;5;33mReshape\u001b[0m)         │ (\u001b[38;5;45mNone\u001b[0m, \u001b[38;5;34m28\u001b[0m, \u001b[38;5;34m28\u001b[0m, \u001b[38;5;34m1\u001b[0m)             │           \u001b[38;5;34m0\u001b[0m │\n",
              "└────────────────────────────────────┴───────────────────────────────┴─────────────┘\n"
            ],
            "text/html": [
              "<pre style=\"white-space:pre;overflow-x:auto;line-height:normal;font-family:Menlo,'DejaVu Sans Mono',consolas,'Courier New',monospace\">┏━━━━━━━━━━━━━━━━━━━━━━━━━━━━━━━━━━━━┳━━━━━━━━━━━━━━━━━━━━━━━━━━━━━━━┳━━━━━━━━━━━━━┓\n",
              "┃<span style=\"font-weight: bold\"> Layer (type)                       </span>┃<span style=\"font-weight: bold\"> Output Shape                  </span>┃<span style=\"font-weight: bold\">     Param # </span>┃\n",
              "┡━━━━━━━━━━━━━━━━━━━━━━━━━━━━━━━━━━━━╇━━━━━━━━━━━━━━━━━━━━━━━━━━━━━━━╇━━━━━━━━━━━━━┩\n",
              "│ generator_input (<span style=\"color: #0087ff; text-decoration-color: #0087ff\">InputLayer</span>)       │ (<span style=\"color: #00d7ff; text-decoration-color: #00d7ff\">None</span>, <span style=\"color: #00af00; text-decoration-color: #00af00\">100</span>)                   │           <span style=\"color: #00af00; text-decoration-color: #00af00\">0</span> │\n",
              "├────────────────────────────────────┼───────────────────────────────┼─────────────┤\n",
              "│ dense_7 (<span style=\"color: #0087ff; text-decoration-color: #0087ff\">Dense</span>)                    │ (<span style=\"color: #00d7ff; text-decoration-color: #00d7ff\">None</span>, <span style=\"color: #00af00; text-decoration-color: #00af00\">256</span>)                   │      <span style=\"color: #00af00; text-decoration-color: #00af00\">25,856</span> │\n",
              "├────────────────────────────────────┼───────────────────────────────┼─────────────┤\n",
              "│ leaky_re_lu_6 (<span style=\"color: #0087ff; text-decoration-color: #0087ff\">LeakyReLU</span>)          │ (<span style=\"color: #00d7ff; text-decoration-color: #00d7ff\">None</span>, <span style=\"color: #00af00; text-decoration-color: #00af00\">256</span>)                   │           <span style=\"color: #00af00; text-decoration-color: #00af00\">0</span> │\n",
              "├────────────────────────────────────┼───────────────────────────────┼─────────────┤\n",
              "│ batch_normalization_3              │ (<span style=\"color: #00d7ff; text-decoration-color: #00d7ff\">None</span>, <span style=\"color: #00af00; text-decoration-color: #00af00\">256</span>)                   │       <span style=\"color: #00af00; text-decoration-color: #00af00\">1,024</span> │\n",
              "│ (<span style=\"color: #0087ff; text-decoration-color: #0087ff\">BatchNormalization</span>)               │                               │             │\n",
              "├────────────────────────────────────┼───────────────────────────────┼─────────────┤\n",
              "│ dense_8 (<span style=\"color: #0087ff; text-decoration-color: #0087ff\">Dense</span>)                    │ (<span style=\"color: #00d7ff; text-decoration-color: #00d7ff\">None</span>, <span style=\"color: #00af00; text-decoration-color: #00af00\">512</span>)                   │     <span style=\"color: #00af00; text-decoration-color: #00af00\">131,584</span> │\n",
              "├────────────────────────────────────┼───────────────────────────────┼─────────────┤\n",
              "│ leaky_re_lu_7 (<span style=\"color: #0087ff; text-decoration-color: #0087ff\">LeakyReLU</span>)          │ (<span style=\"color: #00d7ff; text-decoration-color: #00d7ff\">None</span>, <span style=\"color: #00af00; text-decoration-color: #00af00\">512</span>)                   │           <span style=\"color: #00af00; text-decoration-color: #00af00\">0</span> │\n",
              "├────────────────────────────────────┼───────────────────────────────┼─────────────┤\n",
              "│ batch_normalization_4              │ (<span style=\"color: #00d7ff; text-decoration-color: #00d7ff\">None</span>, <span style=\"color: #00af00; text-decoration-color: #00af00\">512</span>)                   │       <span style=\"color: #00af00; text-decoration-color: #00af00\">2,048</span> │\n",
              "│ (<span style=\"color: #0087ff; text-decoration-color: #0087ff\">BatchNormalization</span>)               │                               │             │\n",
              "├────────────────────────────────────┼───────────────────────────────┼─────────────┤\n",
              "│ dense_9 (<span style=\"color: #0087ff; text-decoration-color: #0087ff\">Dense</span>)                    │ (<span style=\"color: #00d7ff; text-decoration-color: #00d7ff\">None</span>, <span style=\"color: #00af00; text-decoration-color: #00af00\">1024</span>)                  │     <span style=\"color: #00af00; text-decoration-color: #00af00\">525,312</span> │\n",
              "├────────────────────────────────────┼───────────────────────────────┼─────────────┤\n",
              "│ leaky_re_lu_8 (<span style=\"color: #0087ff; text-decoration-color: #0087ff\">LeakyReLU</span>)          │ (<span style=\"color: #00d7ff; text-decoration-color: #00d7ff\">None</span>, <span style=\"color: #00af00; text-decoration-color: #00af00\">1024</span>)                  │           <span style=\"color: #00af00; text-decoration-color: #00af00\">0</span> │\n",
              "├────────────────────────────────────┼───────────────────────────────┼─────────────┤\n",
              "│ batch_normalization_5              │ (<span style=\"color: #00d7ff; text-decoration-color: #00d7ff\">None</span>, <span style=\"color: #00af00; text-decoration-color: #00af00\">1024</span>)                  │       <span style=\"color: #00af00; text-decoration-color: #00af00\">4,096</span> │\n",
              "│ (<span style=\"color: #0087ff; text-decoration-color: #0087ff\">BatchNormalization</span>)               │                               │             │\n",
              "├────────────────────────────────────┼───────────────────────────────┼─────────────┤\n",
              "│ dense_10 (<span style=\"color: #0087ff; text-decoration-color: #0087ff\">Dense</span>)                   │ (<span style=\"color: #00d7ff; text-decoration-color: #00d7ff\">None</span>, <span style=\"color: #00af00; text-decoration-color: #00af00\">784</span>)                   │     <span style=\"color: #00af00; text-decoration-color: #00af00\">803,600</span> │\n",
              "├────────────────────────────────────┼───────────────────────────────┼─────────────┤\n",
              "│ generator_output (<span style=\"color: #0087ff; text-decoration-color: #0087ff\">Reshape</span>)         │ (<span style=\"color: #00d7ff; text-decoration-color: #00d7ff\">None</span>, <span style=\"color: #00af00; text-decoration-color: #00af00\">28</span>, <span style=\"color: #00af00; text-decoration-color: #00af00\">28</span>, <span style=\"color: #00af00; text-decoration-color: #00af00\">1</span>)             │           <span style=\"color: #00af00; text-decoration-color: #00af00\">0</span> │\n",
              "└────────────────────────────────────┴───────────────────────────────┴─────────────┘\n",
              "</pre>\n"
            ]
          },
          "metadata": {}
        },
        {
          "output_type": "display_data",
          "data": {
            "text/plain": [
              "\u001b[1m Total params: \u001b[0m\u001b[38;5;34m1,493,520\u001b[0m (5.70 MB)\n"
            ],
            "text/html": [
              "<pre style=\"white-space:pre;overflow-x:auto;line-height:normal;font-family:Menlo,'DejaVu Sans Mono',consolas,'Courier New',monospace\"><span style=\"font-weight: bold\"> Total params: </span><span style=\"color: #00af00; text-decoration-color: #00af00\">1,493,520</span> (5.70 MB)\n",
              "</pre>\n"
            ]
          },
          "metadata": {}
        },
        {
          "output_type": "display_data",
          "data": {
            "text/plain": [
              "\u001b[1m Trainable params: \u001b[0m\u001b[38;5;34m1,489,936\u001b[0m (5.68 MB)\n"
            ],
            "text/html": [
              "<pre style=\"white-space:pre;overflow-x:auto;line-height:normal;font-family:Menlo,'DejaVu Sans Mono',consolas,'Courier New',monospace\"><span style=\"font-weight: bold\"> Trainable params: </span><span style=\"color: #00af00; text-decoration-color: #00af00\">1,489,936</span> (5.68 MB)\n",
              "</pre>\n"
            ]
          },
          "metadata": {}
        },
        {
          "output_type": "display_data",
          "data": {
            "text/plain": [
              "\u001b[1m Non-trainable params: \u001b[0m\u001b[38;5;34m3,584\u001b[0m (14.00 KB)\n"
            ],
            "text/html": [
              "<pre style=\"white-space:pre;overflow-x:auto;line-height:normal;font-family:Menlo,'DejaVu Sans Mono',consolas,'Courier New',monospace\"><span style=\"font-weight: bold\"> Non-trainable params: </span><span style=\"color: #00af00; text-decoration-color: #00af00\">3,584</span> (14.00 KB)\n",
              "</pre>\n"
            ]
          },
          "metadata": {}
        }
      ]
    },
    {
      "cell_type": "code",
      "source": [
        "get_discriminator().summary()"
      ],
      "metadata": {
        "colab": {
          "base_uri": "https://localhost:8080/",
          "height": 417
        },
        "id": "4iwAKUGLs6WZ",
        "outputId": "dd49658e-c5a2-4b44-9f8d-02080e62e65a"
      },
      "execution_count": null,
      "outputs": [
        {
          "output_type": "display_data",
          "data": {
            "text/plain": [
              "\u001b[1mModel: \"discriminator\"\u001b[0m\n"
            ],
            "text/html": [
              "<pre style=\"white-space:pre;overflow-x:auto;line-height:normal;font-family:Menlo,'DejaVu Sans Mono',consolas,'Courier New',monospace\"><span style=\"font-weight: bold\">Model: \"discriminator\"</span>\n",
              "</pre>\n"
            ]
          },
          "metadata": {}
        },
        {
          "output_type": "display_data",
          "data": {
            "text/plain": [
              "┏━━━━━━━━━━━━━━━━━━━━━━━━━━━━━━━━━━━━┳━━━━━━━━━━━━━━━━━━━━━━━━━━━━━━━┳━━━━━━━━━━━━━┓\n",
              "┃\u001b[1m \u001b[0m\u001b[1mLayer (type)                      \u001b[0m\u001b[1m \u001b[0m┃\u001b[1m \u001b[0m\u001b[1mOutput Shape                 \u001b[0m\u001b[1m \u001b[0m┃\u001b[1m \u001b[0m\u001b[1m    Param #\u001b[0m\u001b[1m \u001b[0m┃\n",
              "┡━━━━━━━━━━━━━━━━━━━━━━━━━━━━━━━━━━━━╇━━━━━━━━━━━━━━━━━━━━━━━━━━━━━━━╇━━━━━━━━━━━━━┩\n",
              "│ discriminator_input (\u001b[38;5;33mInputLayer\u001b[0m)   │ (\u001b[38;5;45mNone\u001b[0m, \u001b[38;5;34m28\u001b[0m, \u001b[38;5;34m28\u001b[0m, \u001b[38;5;34m1\u001b[0m)             │           \u001b[38;5;34m0\u001b[0m │\n",
              "├────────────────────────────────────┼───────────────────────────────┼─────────────┤\n",
              "│ flatten_1 (\u001b[38;5;33mFlatten\u001b[0m)                │ (\u001b[38;5;45mNone\u001b[0m, \u001b[38;5;34m784\u001b[0m)                   │           \u001b[38;5;34m0\u001b[0m │\n",
              "├────────────────────────────────────┼───────────────────────────────┼─────────────┤\n",
              "│ dense_11 (\u001b[38;5;33mDense\u001b[0m)                   │ (\u001b[38;5;45mNone\u001b[0m, \u001b[38;5;34m512\u001b[0m)                   │     \u001b[38;5;34m401,920\u001b[0m │\n",
              "├────────────────────────────────────┼───────────────────────────────┼─────────────┤\n",
              "│ leaky_re_lu_9 (\u001b[38;5;33mLeakyReLU\u001b[0m)          │ (\u001b[38;5;45mNone\u001b[0m, \u001b[38;5;34m512\u001b[0m)                   │           \u001b[38;5;34m0\u001b[0m │\n",
              "├────────────────────────────────────┼───────────────────────────────┼─────────────┤\n",
              "│ dense_12 (\u001b[38;5;33mDense\u001b[0m)                   │ (\u001b[38;5;45mNone\u001b[0m, \u001b[38;5;34m256\u001b[0m)                   │     \u001b[38;5;34m131,328\u001b[0m │\n",
              "├────────────────────────────────────┼───────────────────────────────┼─────────────┤\n",
              "│ leaky_re_lu_10 (\u001b[38;5;33mLeakyReLU\u001b[0m)         │ (\u001b[38;5;45mNone\u001b[0m, \u001b[38;5;34m256\u001b[0m)                   │           \u001b[38;5;34m0\u001b[0m │\n",
              "├────────────────────────────────────┼───────────────────────────────┼─────────────┤\n",
              "│ dense_13 (\u001b[38;5;33mDense\u001b[0m)                   │ (\u001b[38;5;45mNone\u001b[0m, \u001b[38;5;34m128\u001b[0m)                   │      \u001b[38;5;34m32,896\u001b[0m │\n",
              "├────────────────────────────────────┼───────────────────────────────┼─────────────┤\n",
              "│ leaky_re_lu_11 (\u001b[38;5;33mLeakyReLU\u001b[0m)         │ (\u001b[38;5;45mNone\u001b[0m, \u001b[38;5;34m128\u001b[0m)                   │           \u001b[38;5;34m0\u001b[0m │\n",
              "├────────────────────────────────────┼───────────────────────────────┼─────────────┤\n",
              "│ discriminator_output (\u001b[38;5;33mDense\u001b[0m)       │ (\u001b[38;5;45mNone\u001b[0m, \u001b[38;5;34m1\u001b[0m)                     │         \u001b[38;5;34m129\u001b[0m │\n",
              "└────────────────────────────────────┴───────────────────────────────┴─────────────┘\n"
            ],
            "text/html": [
              "<pre style=\"white-space:pre;overflow-x:auto;line-height:normal;font-family:Menlo,'DejaVu Sans Mono',consolas,'Courier New',monospace\">┏━━━━━━━━━━━━━━━━━━━━━━━━━━━━━━━━━━━━┳━━━━━━━━━━━━━━━━━━━━━━━━━━━━━━━┳━━━━━━━━━━━━━┓\n",
              "┃<span style=\"font-weight: bold\"> Layer (type)                       </span>┃<span style=\"font-weight: bold\"> Output Shape                  </span>┃<span style=\"font-weight: bold\">     Param # </span>┃\n",
              "┡━━━━━━━━━━━━━━━━━━━━━━━━━━━━━━━━━━━━╇━━━━━━━━━━━━━━━━━━━━━━━━━━━━━━━╇━━━━━━━━━━━━━┩\n",
              "│ discriminator_input (<span style=\"color: #0087ff; text-decoration-color: #0087ff\">InputLayer</span>)   │ (<span style=\"color: #00d7ff; text-decoration-color: #00d7ff\">None</span>, <span style=\"color: #00af00; text-decoration-color: #00af00\">28</span>, <span style=\"color: #00af00; text-decoration-color: #00af00\">28</span>, <span style=\"color: #00af00; text-decoration-color: #00af00\">1</span>)             │           <span style=\"color: #00af00; text-decoration-color: #00af00\">0</span> │\n",
              "├────────────────────────────────────┼───────────────────────────────┼─────────────┤\n",
              "│ flatten_1 (<span style=\"color: #0087ff; text-decoration-color: #0087ff\">Flatten</span>)                │ (<span style=\"color: #00d7ff; text-decoration-color: #00d7ff\">None</span>, <span style=\"color: #00af00; text-decoration-color: #00af00\">784</span>)                   │           <span style=\"color: #00af00; text-decoration-color: #00af00\">0</span> │\n",
              "├────────────────────────────────────┼───────────────────────────────┼─────────────┤\n",
              "│ dense_11 (<span style=\"color: #0087ff; text-decoration-color: #0087ff\">Dense</span>)                   │ (<span style=\"color: #00d7ff; text-decoration-color: #00d7ff\">None</span>, <span style=\"color: #00af00; text-decoration-color: #00af00\">512</span>)                   │     <span style=\"color: #00af00; text-decoration-color: #00af00\">401,920</span> │\n",
              "├────────────────────────────────────┼───────────────────────────────┼─────────────┤\n",
              "│ leaky_re_lu_9 (<span style=\"color: #0087ff; text-decoration-color: #0087ff\">LeakyReLU</span>)          │ (<span style=\"color: #00d7ff; text-decoration-color: #00d7ff\">None</span>, <span style=\"color: #00af00; text-decoration-color: #00af00\">512</span>)                   │           <span style=\"color: #00af00; text-decoration-color: #00af00\">0</span> │\n",
              "├────────────────────────────────────┼───────────────────────────────┼─────────────┤\n",
              "│ dense_12 (<span style=\"color: #0087ff; text-decoration-color: #0087ff\">Dense</span>)                   │ (<span style=\"color: #00d7ff; text-decoration-color: #00d7ff\">None</span>, <span style=\"color: #00af00; text-decoration-color: #00af00\">256</span>)                   │     <span style=\"color: #00af00; text-decoration-color: #00af00\">131,328</span> │\n",
              "├────────────────────────────────────┼───────────────────────────────┼─────────────┤\n",
              "│ leaky_re_lu_10 (<span style=\"color: #0087ff; text-decoration-color: #0087ff\">LeakyReLU</span>)         │ (<span style=\"color: #00d7ff; text-decoration-color: #00d7ff\">None</span>, <span style=\"color: #00af00; text-decoration-color: #00af00\">256</span>)                   │           <span style=\"color: #00af00; text-decoration-color: #00af00\">0</span> │\n",
              "├────────────────────────────────────┼───────────────────────────────┼─────────────┤\n",
              "│ dense_13 (<span style=\"color: #0087ff; text-decoration-color: #0087ff\">Dense</span>)                   │ (<span style=\"color: #00d7ff; text-decoration-color: #00d7ff\">None</span>, <span style=\"color: #00af00; text-decoration-color: #00af00\">128</span>)                   │      <span style=\"color: #00af00; text-decoration-color: #00af00\">32,896</span> │\n",
              "├────────────────────────────────────┼───────────────────────────────┼─────────────┤\n",
              "│ leaky_re_lu_11 (<span style=\"color: #0087ff; text-decoration-color: #0087ff\">LeakyReLU</span>)         │ (<span style=\"color: #00d7ff; text-decoration-color: #00d7ff\">None</span>, <span style=\"color: #00af00; text-decoration-color: #00af00\">128</span>)                   │           <span style=\"color: #00af00; text-decoration-color: #00af00\">0</span> │\n",
              "├────────────────────────────────────┼───────────────────────────────┼─────────────┤\n",
              "│ discriminator_output (<span style=\"color: #0087ff; text-decoration-color: #0087ff\">Dense</span>)       │ (<span style=\"color: #00d7ff; text-decoration-color: #00d7ff\">None</span>, <span style=\"color: #00af00; text-decoration-color: #00af00\">1</span>)                     │         <span style=\"color: #00af00; text-decoration-color: #00af00\">129</span> │\n",
              "└────────────────────────────────────┴───────────────────────────────┴─────────────┘\n",
              "</pre>\n"
            ]
          },
          "metadata": {}
        },
        {
          "output_type": "display_data",
          "data": {
            "text/plain": [
              "\u001b[1m Total params: \u001b[0m\u001b[38;5;34m566,273\u001b[0m (2.16 MB)\n"
            ],
            "text/html": [
              "<pre style=\"white-space:pre;overflow-x:auto;line-height:normal;font-family:Menlo,'DejaVu Sans Mono',consolas,'Courier New',monospace\"><span style=\"font-weight: bold\"> Total params: </span><span style=\"color: #00af00; text-decoration-color: #00af00\">566,273</span> (2.16 MB)\n",
              "</pre>\n"
            ]
          },
          "metadata": {}
        },
        {
          "output_type": "display_data",
          "data": {
            "text/plain": [
              "\u001b[1m Trainable params: \u001b[0m\u001b[38;5;34m566,273\u001b[0m (2.16 MB)\n"
            ],
            "text/html": [
              "<pre style=\"white-space:pre;overflow-x:auto;line-height:normal;font-family:Menlo,'DejaVu Sans Mono',consolas,'Courier New',monospace\"><span style=\"font-weight: bold\"> Trainable params: </span><span style=\"color: #00af00; text-decoration-color: #00af00\">566,273</span> (2.16 MB)\n",
              "</pre>\n"
            ]
          },
          "metadata": {}
        },
        {
          "output_type": "display_data",
          "data": {
            "text/plain": [
              "\u001b[1m Non-trainable params: \u001b[0m\u001b[38;5;34m0\u001b[0m (0.00 B)\n"
            ],
            "text/html": [
              "<pre style=\"white-space:pre;overflow-x:auto;line-height:normal;font-family:Menlo,'DejaVu Sans Mono',consolas,'Courier New',monospace\"><span style=\"font-weight: bold\"> Non-trainable params: </span><span style=\"color: #00af00; text-decoration-color: #00af00\">0</span> (0.00 B)\n",
              "</pre>\n"
            ]
          },
          "metadata": {}
        }
      ]
    },
    {
      "cell_type": "markdown",
      "source": [
        "# Define loss function and optimizers"
      ],
      "metadata": {
        "id": "yjk3UpLuJufr"
      }
    },
    {
      "cell_type": "code",
      "source": [
        "loss_fn = keras.losses.BinaryCrossentropy()\n",
        "\n",
        "generator_optimizer = keras.optimizers.Adam(learning_rate=0.0002,\n",
        "                                            beta_1=0.5)\n",
        "discriminator_optimizer = keras.optimizers.Adam(learning_rate=0.0002,\n",
        "                                            beta_1=0.5)\n"
      ],
      "metadata": {
        "id": "bjHU7qiGJwe3"
      },
      "execution_count": null,
      "outputs": []
    },
    {
      "cell_type": "code",
      "source": [
        "# Make sure to build optimizer variables\n",
        "generator_optimizer.build(generator.trainable_variables)\n",
        "discriminator_optimizer.build(discriminator.trainable_variables)"
      ],
      "metadata": {
        "id": "Ux1J8pYg9Z8v"
      },
      "execution_count": null,
      "outputs": []
    },
    {
      "cell_type": "markdown",
      "source": [
        "# Set up training functions"
      ],
      "metadata": {
        "id": "yM3pJX5NiC2h"
      }
    },
    {
      "cell_type": "markdown",
      "source": [
        "## Generator's"
      ],
      "metadata": {
        "id": "kYMZL0FMiHiY"
      }
    },
    {
      "cell_type": "markdown",
      "source": [
        "### Generator forward pass and computation"
      ],
      "metadata": {
        "id": "-UiyPFl_E49D"
      }
    },
    {
      "cell_type": "code",
      "source": [
        "def generator_compute_loss_and_updates(generator_trainable_variables,\n",
        "                                       generator_non_trainable_variables,\n",
        "                                       discriminator_trainable_variables,\n",
        "                                       discriminator_non_trainable_variables,\n",
        "                                       noise\n",
        "                                       ):\n",
        "  fake_images, generator_non_trainable_variables = generator.stateless_call(\n",
        "                                          generator_trainable_variables,\n",
        "                                          generator_non_trainable_variables,\n",
        "                                          noise,\n",
        "                                          training=True)\n",
        "  y_pred, discriminator_non_trainable_variables = discriminator.stateless_call(\n",
        "                                          discriminator_trainable_variables,\n",
        "                                          discriminator_non_trainable_variables,\n",
        "                                          fake_images,\n",
        "                                          training=True)\n",
        "  generator_loss = loss_fn(y_true=ops.ones(ops.shape(y_pred)),\n",
        "                           y_pred=y_pred)\n",
        "  return generator_loss, generator_non_trainable_variables\n",
        "\n",
        "\n",
        "generator_grad_fn = jax.value_and_grad(generator_compute_loss_and_updates,\n",
        "                                       has_aux=True)\n"
      ],
      "metadata": {
        "id": "HN8n5-ojONic"
      },
      "execution_count": null,
      "outputs": []
    },
    {
      "cell_type": "markdown",
      "source": [
        "### Generator train step"
      ],
      "metadata": {
        "id": "bzQcfTjvE1Fp"
      }
    },
    {
      "cell_type": "code",
      "source": [
        "@jax.jit\n",
        "def generator_train_step(generator_state: tuple,\n",
        "                         discriminator_state: tuple,\n",
        "                         noise):\n",
        "  (\n",
        "      generator_trainable_variables,\n",
        "      generator_non_trainable_variables,\n",
        "      generator_optimizer_variables\n",
        "  ) = generator_state\n",
        "\n",
        "  (\n",
        "      discriminator_trainable_variables,\n",
        "      discriminator_non_trainable_variables,\n",
        "      _\n",
        "  ) = discriminator_state\n",
        "\n",
        "  (loss, generator_non_trainable_variables), grads = generator_grad_fn(\n",
        "                                  generator_trainable_variables,\n",
        "                                  generator_non_trainable_variables,\n",
        "                                  discriminator_trainable_variables,\n",
        "                                  discriminator_non_trainable_variables,\n",
        "                                  noise)\n",
        "  # Optimize\n",
        "  (\n",
        "      generator_trainable_variables,\n",
        "      generator_optimizer_variables\n",
        "  ) = generator_optimizer.stateless_apply(generator_optimizer_variables,\n",
        "                                          grads,\n",
        "                                          generator_trainable_variables)\n",
        "\n",
        "  # Since generator_train_step function does not modify the discriminator state\n",
        "  # and only updates the generator state so we return the updated state\n",
        "  generator_state = (generator_trainable_variables,\n",
        "                     generator_non_trainable_variables,\n",
        "                     generator_optimizer_variables)\n",
        "  return loss, generator_state"
      ],
      "metadata": {
        "id": "uTuPCDMfEz_t"
      },
      "execution_count": null,
      "outputs": []
    },
    {
      "cell_type": "markdown",
      "source": [
        "## Discriminator's"
      ],
      "metadata": {
        "id": "RO4TYoQjiKL8"
      }
    },
    {
      "cell_type": "markdown",
      "source": [
        "### Discriminator forward pass and loss"
      ],
      "metadata": {
        "id": "v4HSu2CZFIEg"
      }
    },
    {
      "cell_type": "code",
      "source": [
        "def discriminator_compute_loss_and_updates(discriminator_trainable_variables,\n",
        "                                          discriminator_non_trainable_variables,\n",
        "                                          real_images,\n",
        "                                          fake_images,\n",
        "                                          noise,\n",
        "                                          ):\n",
        "  # ----------------------\n",
        "  # TRAIN ON FAKE IMAGES\n",
        "  # ----------------------\n",
        "  y_pred_fake, discriminator_non_trainable_variables = discriminator.stateless_call(\n",
        "                                          discriminator_trainable_variables,\n",
        "                                          discriminator_non_trainable_variables,\n",
        "                                          fake_images,\n",
        "                                          training=True)\n",
        "  discriminator_loss_fake = loss_fn(y_true=ops.zeros(ops.shape(y_pred_fake)),\n",
        "                                    y_pred=y_pred_fake)\n",
        "\n",
        "  # ----------------------\n",
        "  # TRAIN ON REAL IMAGES\n",
        "  # ----------------------\n",
        "  y_pred_real, discriminator_non_trainable_variables = discriminator.stateless_call(\n",
        "                                          discriminator_trainable_variables,\n",
        "                                          discriminator_non_trainable_variables,\n",
        "                                          real_images,\n",
        "                                          training=True)\n",
        "  discriminator_loss_real = loss_fn(y_true=ops.ones(ops.shape(y_pred_real)),\n",
        "                                    y_pred=y_pred_real)\n",
        "\n",
        "  discriminator_loss = discriminator_loss_fake + discriminator_loss_real\n",
        "\n",
        "  return discriminator_loss, discriminator_non_trainable_variables\n",
        "\n",
        "\n",
        "discriminator_grad_fn = jax.value_and_grad(\n",
        "                                      discriminator_compute_loss_and_updates,\n",
        "                                      has_aux=True)\n"
      ],
      "metadata": {
        "id": "t7WHZfK7XluL"
      },
      "execution_count": null,
      "outputs": []
    },
    {
      "cell_type": "markdown",
      "source": [
        "### Discriminator train step"
      ],
      "metadata": {
        "id": "27AO6BzvFEoN"
      }
    },
    {
      "cell_type": "code",
      "source": [
        "@jax.jit\n",
        "def discriminator_train_step(discriminator_state: tuple,\n",
        "                             generator_state: tuple,\n",
        "                             real_images,\n",
        "                             noise):\n",
        "\n",
        "  (\n",
        "      discriminator_trainable_variables,\n",
        "      discriminator_non_trainable_variables,\n",
        "      discriminator_optimizer_variables\n",
        "      ) = discriminator_state\n",
        "\n",
        "  (\n",
        "      generator_trainable_variables,\n",
        "      generator_non_trainable_variables,\n",
        "      _\n",
        "      ) = generator_state\n",
        "\n",
        "  fake_images, _ = generator.stateless_call(\n",
        "                                          generator_trainable_variables,\n",
        "                                          generator_non_trainable_variables,\n",
        "                                          noise,\n",
        "                                          training=False)\n",
        "\n",
        "  (loss, discriminator_non_trainable_variables), grads = discriminator_grad_fn(\n",
        "                                  discriminator_trainable_variables,\n",
        "                                  discriminator_non_trainable_variables,\n",
        "                                  real_images,\n",
        "                                  fake_images,\n",
        "                                  noise\n",
        "                                  )\n",
        "  # Optimize\n",
        "  (\n",
        "      discriminator_trainable_variables,\n",
        "      discriminator_optimizer_variables\n",
        "      ) = discriminator_optimizer.stateless_apply(\n",
        "                                            discriminator_optimizer_variables,\n",
        "                                            grads,\n",
        "                                            discriminator_trainable_variables)\n",
        "\n",
        "  # Since discriminator_train_step function does not modify the\n",
        "  # generator state rather only updates the discriminator state so\n",
        "  # we return the updated discriminator state\n",
        "  discriminator_state = (discriminator_trainable_variables,\n",
        "                         discriminator_non_trainable_variables,\n",
        "                         discriminator_optimizer_variables)\n",
        "  return loss, discriminator_state"
      ],
      "metadata": {
        "id": "i2js9PIdFDhP"
      },
      "execution_count": null,
      "outputs": []
    },
    {
      "cell_type": "markdown",
      "source": [
        "# Train"
      ],
      "metadata": {
        "id": "lwzEdOLAhaUr"
      }
    },
    {
      "cell_type": "code",
      "source": [
        "# Get the initial state\n",
        "generator_state = (generator.trainable_variables,\n",
        "                   generator.non_trainable_variables,\n",
        "                   generator_optimizer.variables)\n",
        "\n",
        "discriminator_state = (discriminator.trainable_variables,\n",
        "                       discriminator.non_trainable_variables,\n",
        "                       discriminator_optimizer.variables)\n"
      ],
      "metadata": {
        "id": "82ixd8_s877A"
      },
      "execution_count": null,
      "outputs": []
    },
    {
      "cell_type": "code",
      "source": [
        "NUM_EPOCHS = 100\n",
        "LATENT_DIM = 100\n",
        "temp = NUM_SAMPLES // BATCH_SIZE\n",
        "TOTAL_BATCHES = (temp + 0) if NUM_SAMPLES % BATCH_SIZE == 0 else (temp + 1)"
      ],
      "metadata": {
        "id": "7LnAS-nrqZfS"
      },
      "execution_count": null,
      "outputs": []
    },
    {
      "cell_type": "code",
      "source": [
        "for epoch in range(NUM_EPOCHS):\n",
        "  epoch_start_time = time.time()\n",
        "  for batch_num, real_images in enumerate(mnist_dataset):\n",
        "    # convert tf tensors to numpy before passing to model\n",
        "    real_images = real_images.numpy()\n",
        "    noise = random.normal((BATCH_SIZE, LATENT_DIM))\n",
        "    discriminator_loss, discriminator_state = discriminator_train_step(\n",
        "                                                        discriminator_state,\n",
        "                                                        generator_state,\n",
        "                                                        real_images,\n",
        "                                                        noise)\n",
        "    noise = random.normal((BATCH_SIZE, LATENT_DIM))\n",
        "    generator_loss, generator_state = generator_train_step(\n",
        "                                                        generator_state,\n",
        "                                                        discriminator_state,\n",
        "                                                        noise)\n",
        "    # Divide discriminator loss by 2 to get the average loss since we sum up\n",
        "    # the discrimintor loss of real and fake samples\n",
        "    epoch_elapsed_time = int(time.time() - epoch_start_time)\n",
        "    print(f\"\\rEpoch {epoch+1}/{NUM_EPOCHS}:  \"\\\n",
        "          f\"Elapsed time: {epoch_elapsed_time}s  \"\\\n",
        "          f\"Batch {batch_num+1}/{TOTAL_BATCHES}:  \"\\\n",
        "          f\"generator_loss: {generator_loss:<6.6f} \"\\\n",
        "          f\"discriminator_loss: {discriminator_loss/2:<6.6f}\", end=\"\")\n",
        "  print()\n"
      ],
      "metadata": {
        "id": "MOFUtVRVOLVo"
      },
      "execution_count": null,
      "outputs": []
    },
    {
      "cell_type": "markdown",
      "source": [
        "# Generate new images and plot them to see if the hardowrk borne any fruit"
      ],
      "metadata": {
        "id": "aeNj9lO_rQVo"
      }
    },
    {
      "cell_type": "code",
      "source": [
        "import matplotlib.pyplot as plt\n",
        "\n",
        "\n",
        "def generate_images(generator, generator_state, noise):\n",
        "  trainable_vars, non_trainable_vars, _ = generator_state\n",
        "  predictions, _ = generator.stateless_call(trainable_vars,\n",
        "                                            non_trainable_vars,\n",
        "                                            noise,\n",
        "                                            training=False)\n",
        "\n",
        "  fig = plt.figure(figsize=(4, 4))\n",
        "\n",
        "  for i in range(predictions.shape[0]):\n",
        "      plt.subplot(4, 4, i+1)\n",
        "      plt.imshow(predictions[i, :, :, 0] * 127.5 + 127.5, cmap='gray')\n",
        "      plt.axis('off')\n",
        "\n",
        "  plt.show()"
      ],
      "metadata": {
        "id": "fjv6GLDzseRb"
      },
      "execution_count": null,
      "outputs": []
    },
    {
      "cell_type": "code",
      "source": [
        "noise = random.normal((16, 100))\n",
        "generate_images(generator, generator_state, noise)"
      ],
      "metadata": {
        "colab": {
          "base_uri": "https://localhost:8080/",
          "height": 345
        },
        "id": "TGotssQItIuh",
        "outputId": "78af29eb-0e04-4240-bfc6-e93dd7d02ec6"
      },
      "execution_count": null,
      "outputs": [
        {
          "output_type": "display_data",
          "data": {
            "text/plain": [
              "<Figure size 400x400 with 16 Axes>"
            ],
            "image/png": "[encoded data removed]"
          },
          "metadata": {}
        }
      ]
    },
    {
      "cell_type": "markdown",
      "source": [
        "Would you look at that! Take that Yann, we got our own MNIST dataset now! :p"
      ],
      "metadata": {
        "id": "i3-2_cgsm-Xi"
      }
    },
    {
      "cell_type": "markdown",
      "source": [
        "# Thank you!\n",
        "Thanks for reading my article and following my code. If you found it helpful, please consider giving a star to my repo and liking my medium artcile!\n",
        "\n",
        "Have a wonderful day! Happy building!"
      ],
      "metadata": {
        "id": "5VugAMKSsRAO"
      }
    }
  ]
}